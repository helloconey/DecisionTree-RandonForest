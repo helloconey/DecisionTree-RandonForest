{
 "cells": [
  {
   "cell_type": "code",
   "execution_count": 1,
   "metadata": {},
   "outputs": [],
   "source": [
    "import pandas as pd\n",
    "import numpy as np"
   ]
  },
  {
   "cell_type": "code",
   "execution_count": 2,
   "metadata": {},
   "outputs": [],
   "source": [
    "data = pd.read_csv(\"digit_recognizor.csv\")"
   ]
  },
  {
   "cell_type": "code",
   "execution_count": 3,
   "metadata": {},
   "outputs": [
    {
     "data": {
      "text/plain": [
       "(42000, 784)"
      ]
     },
     "execution_count": 3,
     "metadata": {},
     "output_type": "execute_result"
    }
   ],
   "source": [
    "X = data.iloc[:,1:]\n",
    "y = data.iloc[:,0]\n",
    "\n",
    "X.shape #very very high dimensions: 784"
   ]
  },
  {
   "cell_type": "markdown",
   "metadata": {},
   "source": [
    "## 1. Feature_Selection: Filters (if large feature and data - pre-selected)\n",
    "\n",
    "#### All feature --> Best sub-features-set --> Algorithem --> Model Performance"
   ]
  },
  {
   "cell_type": "markdown",
   "metadata": {},
   "source": [
    "### 1.1 VarianceThreshold:\n",
    "small variance between features means they are similar distributed or types. But this is helpless when selecting samples. So the first thing we are going to do is to **remove variance = 0's features**"
   ]
  },
  {
   "cell_type": "code",
   "execution_count": 4,
   "metadata": {},
   "outputs": [],
   "source": [
    "from sklearn.feature_selection import VarianceThreshold\n",
    "\n",
    "selector = VarianceThreshold() #Instatiate, no input for parameters = default(variance = 0)\n",
    "X_var0 = selector.fit_transform(X) #Gets the new feature matrix after the unqualified features are removed"
   ]
  },
  {
   "cell_type": "code",
   "execution_count": 5,
   "metadata": {},
   "outputs": [
    {
     "data": {
      "text/plain": [
       "(42000, 708)"
      ]
     },
     "execution_count": 5,
     "metadata": {},
     "output_type": "execute_result"
    }
   ],
   "source": [
    "X_var0.shape #now we have already remove all variance=0 features"
   ]
  },
  {
   "cell_type": "markdown",
   "metadata": {},
   "source": [
    "We want to leave half of the features, so we can set a variance threshold that halves the total number of features, as long as we **find the median of the feature variance**, and then input this median as the value of the parameter threshold:"
   ]
  },
  {
   "cell_type": "code",
   "execution_count": 6,
   "metadata": {},
   "outputs": [
    {
     "data": {
      "text/plain": [
       "array([0.00000000e+00, 0.00000000e+00, 0.00000000e+00, 0.00000000e+00,\n",
       "       0.00000000e+00, 0.00000000e+00, 0.00000000e+00, 0.00000000e+00,\n",
       "       0.00000000e+00, 0.00000000e+00, 0.00000000e+00, 0.00000000e+00,\n",
       "       3.22760590e-01, 2.64689018e+00, 1.11085714e+00, 1.92857143e-03,\n",
       "       0.00000000e+00, 0.00000000e+00, 0.00000000e+00, 0.00000000e+00,\n",
       "       0.00000000e+00, 0.00000000e+00, 0.00000000e+00, 0.00000000e+00,\n",
       "       0.00000000e+00, 0.00000000e+00, 0.00000000e+00, 0.00000000e+00,\n",
       "       0.00000000e+00, 0.00000000e+00, 0.00000000e+00, 0.00000000e+00,\n",
       "       6.09523810e-03, 5.41186213e-02, 1.28065733e+00, 5.33793150e+00,\n",
       "       9.74592647e+00, 1.06219147e+01, 2.49289953e+01, 3.37671294e+01,\n",
       "       3.59425660e+01, 3.49309575e+01, 3.62943342e+01, 3.27911079e+01,\n",
       "       3.04237672e+01, 2.95547817e+01, 2.00568398e+01, 1.19545659e+01,\n",
       "       8.60419724e+00, 2.55465685e+00, 1.60530842e+00, 9.29377602e-01,\n",
       "       0.00000000e+00, 0.00000000e+00, 0.00000000e+00, 0.00000000e+00,\n",
       "       0.00000000e+00, 0.00000000e+00, 9.75238095e-02, 2.00238095e-02,\n",
       "       8.38442376e-01, 6.23481035e-01, 9.48446647e+00, 2.93530906e+01,\n",
       "       5.67872968e+01, 1.00230634e+02, 1.65873698e+02, 2.52738939e+02,\n",
       "       3.76018084e+02, 5.14426094e+02, 6.50102357e+02, 7.26608631e+02,\n",
       "       7.20549617e+02, 6.49594181e+02, 5.18814455e+02, 3.94092376e+02,\n",
       "       2.35038093e+02, 1.14843923e+02, 5.61521180e+01, 1.70331842e+01,\n",
       "       6.48083740e+00, 1.08821717e+00, 0.00000000e+00, 0.00000000e+00,\n",
       "       0.00000000e+00, 0.00000000e+00, 4.76236337e-01, 2.75489198e-01,\n",
       "       1.29297595e+00, 1.26446724e+01, 4.28153306e+01, 9.43924926e+01,\n",
       "       2.15866693e+02, 4.40079141e+02, 7.26679321e+02, 1.10776068e+03,\n",
       "       1.49073923e+03, 1.93993499e+03, 2.31552090e+03, 2.59022407e+03,\n",
       "       2.49637882e+03, 2.22627799e+03, 1.80800104e+03, 1.31417708e+03,\n",
       "       7.95887557e+02, 4.41320506e+02, 1.99165391e+02, 7.95865424e+01,\n",
       "       3.10264989e+01, 2.26837146e+00, 3.48595238e-01, 0.00000000e+00,\n",
       "       0.00000000e+00, 3.43809524e-02, 1.15447633e-01, 1.25289059e+00,\n",
       "       1.15530325e+01, 6.16749834e+01, 1.71059884e+02, 4.37266473e+02,\n",
       "       9.14503323e+02, 1.61733281e+03, 2.58238559e+03, 3.73319320e+03,\n",
       "       4.97101576e+03, 6.18285701e+03, 7.12176198e+03, 7.61902605e+03,\n",
       "       7.35140128e+03, 6.59732933e+03, 5.42159265e+03, 4.14622275e+03,\n",
       "       2.74210919e+03, 1.60716526e+03, 8.30092375e+02, 3.85524893e+02,\n",
       "       1.44471061e+02, 2.98361218e+01, 5.45472846e+00, 0.00000000e+00,\n",
       "       0.00000000e+00, 0.00000000e+00, 7.16499590e-01, 5.19710545e+00,\n",
       "       6.12264995e+01, 2.53650903e+02, 6.51218510e+02, 1.32512948e+03,\n",
       "       2.39625599e+03, 3.90432573e+03, 5.65248822e+03, 7.50750831e+03,\n",
       "       9.28013155e+03, 1.07098605e+04, 1.15505424e+04, 1.18353399e+04,\n",
       "       1.16728383e+04, 1.10553420e+04, 9.77051209e+03, 8.00603359e+03,\n",
       "       5.90601149e+03, 3.83759619e+03, 2.22900745e+03, 1.15756773e+03,\n",
       "       5.07963705e+02, 1.22007799e+02, 1.78286793e+01, 7.71428571e-03,\n",
       "       0.00000000e+00, 3.80952381e-04, 2.37199928e+00, 3.95713081e+01,\n",
       "       2.07427935e+02, 6.06480056e+02, 1.37944393e+03, 2.64652318e+03,\n",
       "       4.39063213e+03, 6.55335113e+03, 8.64850053e+03, 1.03924767e+04,\n",
       "       1.16602029e+04, 1.23720092e+04, 1.25944602e+04, 1.26223718e+04,\n",
       "       1.26261428e+04, 1.25617677e+04, 1.20570623e+04, 1.07029270e+04,\n",
       "       8.66359114e+03, 6.04366459e+03, 3.77715738e+03, 2.05026195e+03,\n",
       "       9.47173606e+02, 3.04430342e+02, 5.49548377e+01, 3.50648111e+00,\n",
       "       0.00000000e+00, 1.47595606e+00, 1.73365714e+01, 1.03708159e+02,\n",
       "       4.49220215e+02, 1.11598051e+03, 2.31261700e+03, 4.05981199e+03,\n",
       "       6.27112094e+03, 8.61258120e+03, 1.04088978e+04, 1.15863594e+04,\n",
       "       1.20861191e+04, 1.22313676e+04, 1.22256615e+04, 1.21230025e+04,\n",
       "       1.21304108e+04, 1.22345097e+04, 1.22810693e+04, 1.17587829e+04,\n",
       "       1.01382911e+04, 7.63237251e+03, 4.91736987e+03, 2.72324144e+03,\n",
       "       1.22087326e+03, 4.16952121e+02, 7.84619988e+01, 2.69471891e+00,\n",
       "       6.68809524e-02, 1.14742637e+01, 7.06094700e+01, 2.58579123e+02,\n",
       "       7.58812237e+02, 1.66236697e+03, 3.16372296e+03, 5.28061009e+03,\n",
       "       7.80859675e+03, 1.00912727e+04, 1.16171690e+04, 1.22797788e+04,\n",
       "       1.23833077e+04, 1.24581779e+04, 1.23866060e+04, 1.23021558e+04,\n",
       "       1.22796752e+04, 1.23185424e+04, 1.24370140e+04, 1.21441547e+04,\n",
       "       1.08800641e+04, 8.45510124e+03, 5.53590659e+03, 2.92299426e+03,\n",
       "       1.27293575e+03, 4.39632397e+02, 7.77464211e+01, 2.35152706e+00,\n",
       "       1.41387108e+00, 1.83873300e+01, 1.01219976e+02, 3.59094119e+02,\n",
       "       9.16376867e+02, 1.90547923e+03, 3.64144404e+03, 6.06890402e+03,\n",
       "       8.86696591e+03, 1.10299773e+04, 1.21997003e+04, 1.24677668e+04,\n",
       "       1.23878202e+04, 1.20816759e+04, 1.18414911e+04, 1.18243379e+04,\n",
       "       1.19196049e+04, 1.22058487e+04, 1.24040782e+04, 1.21013351e+04,\n",
       "       1.08905421e+04, 8.53288188e+03, 5.50599673e+03, 2.77180472e+03,\n",
       "       1.06085951e+03, 3.12689774e+02, 5.19949129e+01, 5.02228364e+00,\n",
       "       3.12121001e+00, 1.92336286e+01, 1.00196288e+02, 3.33760276e+02,\n",
       "       8.42723536e+02, 1.87713749e+03, 3.80614513e+03, 6.46513903e+03,\n",
       "       9.41022768e+03, 1.14543460e+04, 1.22494028e+04, 1.22551059e+04,\n",
       "       1.15972630e+04, 1.07756156e+04, 1.05723907e+04, 1.10540147e+04,\n",
       "       1.14904415e+04, 1.20641837e+04, 1.22340857e+04, 1.19219747e+04,\n",
       "       1.04672465e+04, 8.02282693e+03, 5.11996418e+03, 2.49340573e+03,\n",
       "       8.29185839e+02, 2.02728469e+02, 3.65252982e+01, 4.73545802e+00,\n",
       "       6.54689762e-01, 1.10762921e+01, 8.21810900e+01, 2.45993138e+02,\n",
       "       6.88037918e+02, 1.77097595e+03, 3.89510214e+03, 6.82414020e+03,\n",
       "       9.88524752e+03, 1.16866740e+04, 1.22052249e+04, 1.18503310e+04,\n",
       "       1.08057141e+04, 1.00029368e+04, 1.05613005e+04, 1.13459087e+04,\n",
       "       1.16813954e+04, 1.21153444e+04, 1.22013911e+04, 1.16257849e+04,\n",
       "       9.77524122e+03, 7.24039730e+03, 4.72965127e+03, 2.39611574e+03,\n",
       "       7.37971166e+02, 1.05994299e+02, 2.09059137e+01, 7.86044778e-01,\n",
       "       6.32595238e-01, 6.32770971e+00, 4.96597411e+01, 1.73335928e+02,\n",
       "       5.64355135e+02, 1.79246896e+03, 4.19852946e+03, 7.42330328e+03,\n",
       "       1.03680620e+04, 1.19241275e+04, 1.22167302e+04, 1.17312041e+04,\n",
       "       1.08331969e+04, 1.06956425e+04, 1.18765965e+04, 1.23125550e+04,\n",
       "       1.21036991e+04, 1.23648277e+04, 1.23532159e+04, 1.12659827e+04,\n",
       "       9.01309194e+03, 6.65304923e+03, 4.53230600e+03, 2.53236771e+03,\n",
       "       8.13317532e+02, 7.57360821e+01, 1.22663918e+01, 9.49856083e-01,\n",
       "       2.43809524e-02, 2.05312854e+00, 2.37737153e+01, 1.15295050e+02,\n",
       "       5.23151198e+02, 2.00356402e+03, 4.71208413e+03, 8.02210576e+03,\n",
       "       1.07142826e+04, 1.19844734e+04, 1.21443066e+04, 1.17352672e+04,\n",
       "       1.13501890e+04, 1.18058310e+04, 1.29305253e+04, 1.24664835e+04,\n",
       "       1.21090771e+04, 1.25723716e+04, 1.24760936e+04, 1.09595385e+04,\n",
       "       8.66572810e+03, 6.56048630e+03, 4.59945505e+03, 2.74090145e+03,\n",
       "       9.79975029e+02, 1.02467830e+02, 1.16955902e+01, 2.92035599e+00,\n",
       "       0.00000000e+00, 8.53042930e-01, 8.80331299e+00, 7.52414185e+01,\n",
       "       5.33884018e+02, 2.30333924e+03, 5.22384299e+03, 8.41596660e+03,\n",
       "       1.08537671e+04, 1.19270178e+04, 1.19856397e+04, 1.17039418e+04,\n",
       "       1.16715555e+04, 1.24445986e+04, 1.29618550e+04, 1.20230391e+04,\n",
       "       1.20377425e+04, 1.26434659e+04, 1.24012680e+04, 1.08759560e+04,\n",
       "       8.87523588e+03, 6.85569402e+03, 4.84378377e+03, 2.91796192e+03,\n",
       "       1.10844668e+03, 1.39672375e+02, 8.86639995e+00, 7.94981734e-02,\n",
       "       0.00000000e+00, 0.00000000e+00, 4.63950502e+00, 8.33393904e+01,\n",
       "       6.29744755e+02, 2.69185746e+03, 5.62185375e+03, 8.53435292e+03,\n",
       "       1.06354679e+04, 1.16397177e+04, 1.17410232e+04, 1.17248709e+04,\n",
       "       1.20446633e+04, 1.27114555e+04, 1.27125078e+04, 1.20008852e+04,\n",
       "       1.24098689e+04, 1.26745406e+04, 1.20741286e+04, 1.08898533e+04,\n",
       "       9.21323231e+03, 7.22598679e+03, 5.04689745e+03, 2.90913735e+03,\n",
       "       1.12277645e+03, 1.91078386e+02, 2.57469149e+01, 1.29179123e+00,\n",
       "       0.00000000e+00, 7.69744852e-02, 1.03197870e+01, 1.11053766e+02,\n",
       "       8.11564748e+02, 3.07386387e+03, 5.91065656e+03, 8.36008213e+03,\n",
       "       1.01408287e+04, 1.10632136e+04, 1.12910607e+04, 1.14976813e+04,\n",
       "       1.20735231e+04, 1.27502876e+04, 1.26987222e+04, 1.23901805e+04,\n",
       "       1.26170244e+04, 1.23916950e+04, 1.17483338e+04, 1.09217037e+04,\n",
       "       9.48760960e+03, 7.35171522e+03, 5.01095743e+03, 2.72992609e+03,\n",
       "       1.04916705e+03, 2.25941630e+02, 3.05993271e+01, 2.87316363e+00,\n",
       "       0.00000000e+00, 2.28039253e-01, 1.74352649e+01, 1.69998742e+02,\n",
       "       1.10767541e+03, 3.43926495e+03, 6.05208363e+03, 8.08344097e+03,\n",
       "       9.50906305e+03, 1.03073030e+04, 1.06715518e+04, 1.10973680e+04,\n",
       "       1.17642567e+04, 1.22940460e+04, 1.25222837e+04, 1.24838281e+04,\n",
       "       1.23538616e+04, 1.20985659e+04, 1.17177753e+04, 1.10570877e+04,\n",
       "       9.47381642e+03, 7.19094489e+03, 4.63491474e+03, 2.42432309e+03,\n",
       "       9.17534777e+02, 2.34119338e+02, 3.27687618e+01, 1.59861539e+00,\n",
       "       1.47639388e-01, 4.47934602e-01, 2.76028871e+01, 2.71942488e+02,\n",
       "       1.45371251e+03, 3.83133451e+03, 6.28631187e+03, 8.14612790e+03,\n",
       "       9.30917203e+03, 1.00179199e+04, 1.05639229e+04, 1.09925571e+04,\n",
       "       1.13187529e+04, 1.19116163e+04, 1.23480093e+04, 1.23440430e+04,\n",
       "       1.21692394e+04, 1.21290528e+04, 1.19460348e+04, 1.11011974e+04,\n",
       "       9.19667530e+03, 6.71976236e+03, 4.18683656e+03, 2.12415117e+03,\n",
       "       8.18965786e+02, 2.22857925e+02, 2.54140760e+01, 1.36995713e+00,\n",
       "       0.00000000e+00, 1.81578450e+00, 4.96345920e+01, 3.80903626e+02,\n",
       "       1.68403918e+03, 4.10905800e+03, 6.66129020e+03, 8.56235623e+03,\n",
       "       9.76878976e+03, 1.05714566e+04, 1.11195093e+04, 1.14535438e+04,\n",
       "       1.17907581e+04, 1.21204054e+04, 1.24479360e+04, 1.23900112e+04,\n",
       "       1.22489975e+04, 1.23606302e+04, 1.19785927e+04, 1.06491638e+04,\n",
       "       8.49640625e+03, 5.95805507e+03, 3.53263357e+03, 1.70287256e+03,\n",
       "       6.43673157e+02, 1.79133677e+02, 2.84028991e+01, 6.28175963e-01,\n",
       "       0.00000000e+00, 1.23625493e+00, 5.65580767e+01, 4.36617659e+02,\n",
       "       1.67611596e+03, 3.91825583e+03, 6.61848502e+03, 8.93197399e+03,\n",
       "       1.05084494e+04, 1.14328933e+04, 1.19110401e+04, 1.21686631e+04,\n",
       "       1.23576844e+04, 1.24269771e+04, 1.24145723e+04, 1.24011494e+04,\n",
       "       1.23905027e+04, 1.22793811e+04, 1.14389559e+04, 9.61909799e+03,\n",
       "       7.11272858e+03, 4.61189510e+03, 2.55069845e+03, 1.22448673e+03,\n",
       "       4.85654757e+02, 1.30709778e+02, 1.54997227e+01, 5.95238095e-02,\n",
       "       2.43809524e-02, 5.50986923e-01, 4.58334020e+01, 3.50464999e+02,\n",
       "       1.27200240e+03, 3.19694301e+03, 5.84711073e+03, 8.57024623e+03,\n",
       "       1.06775424e+04, 1.19000918e+04, 1.23555360e+04, 1.24402093e+04,\n",
       "       1.23586522e+04, 1.21992581e+04, 1.22280936e+04, 1.23162507e+04,\n",
       "       1.22510127e+04, 1.16314635e+04, 1.00849238e+04, 7.71018098e+03,\n",
       "       5.16732671e+03, 2.99318809e+03, 1.58471510e+03, 7.70678750e+02,\n",
       "       2.90603130e+02, 7.36919311e+01, 9.81920114e+00, 3.62142857e-02,\n",
       "       2.28809524e-02, 2.76185941e-03, 2.81056704e+01, 2.04208025e+02,\n",
       "       7.29051694e+02, 2.00572701e+03, 4.21366647e+03, 6.92346357e+03,\n",
       "       9.57389827e+03, 1.14603398e+04, 1.24666788e+04, 1.27682484e+04,\n",
       "       1.26613017e+04, 1.25534327e+04, 1.25998206e+04, 1.23927837e+04,\n",
       "       1.15590439e+04, 9.88953142e+03, 7.53295513e+03, 5.11441259e+03,\n",
       "       3.05547189e+03, 1.66092585e+03, 8.39969863e+02, 3.84512312e+02,\n",
       "       1.34737119e+02, 2.71408189e+01, 3.06857624e+00, 1.23428571e-01,\n",
       "       0.00000000e+00, 0.00000000e+00, 7.31084788e+00, 7.57570670e+01,\n",
       "       3.18535551e+02, 8.92561149e+02, 2.13007164e+03, 4.15513729e+03,\n",
       "       6.67943441e+03, 9.08942045e+03, 1.08768840e+04, 1.18600478e+04,\n",
       "       1.22185140e+04, 1.21488922e+04, 1.16761724e+04, 1.06623427e+04,\n",
       "       8.88180421e+03, 6.72867491e+03, 4.52696553e+03, 2.78125867e+03,\n",
       "       1.57340674e+03, 7.99627345e+02, 3.90776811e+02, 1.74143994e+02,\n",
       "       5.13083781e+01, 8.53411049e+00, 1.14082626e+00, 0.00000000e+00,\n",
       "       0.00000000e+00, 0.00000000e+00, 3.09874806e+00, 2.12014616e+01,\n",
       "       9.01086432e+01, 2.89578069e+02, 7.37002996e+02, 1.63305438e+03,\n",
       "       3.00614325e+03, 4.75217719e+03, 6.42418657e+03, 7.68266614e+03,\n",
       "       8.23705320e+03, 8.21603450e+03, 7.48615583e+03, 6.25364040e+03,\n",
       "       4.88502834e+03, 3.50985901e+03, 2.25424437e+03, 1.40076179e+03,\n",
       "       7.54457368e+02, 3.85015891e+02, 1.70931569e+02, 7.23728862e+01,\n",
       "       1.53588609e+01, 3.76286683e+00, 2.36378952e-01, 0.00000000e+00,\n",
       "       0.00000000e+00, 0.00000000e+00, 7.89492516e-02, 3.23002085e+00,\n",
       "       2.66993369e+01, 8.62829380e+01, 2.42567552e+02, 5.74670736e+02,\n",
       "       1.16062824e+03, 1.85908331e+03, 2.63430007e+03, 3.18296192e+03,\n",
       "       3.47208469e+03, 3.42498298e+03, 3.04423070e+03, 2.59463417e+03,\n",
       "       2.08583729e+03, 1.54170230e+03, 1.04262030e+03, 6.17155891e+02,\n",
       "       3.32872699e+02, 1.63141373e+02, 6.60019146e+01, 2.49646484e+01,\n",
       "       2.80197112e+00, 5.64225568e-01, 2.57523810e-01, 0.00000000e+00,\n",
       "       0.00000000e+00, 0.00000000e+00, 0.00000000e+00, 0.00000000e+00,\n",
       "       5.85748256e+00, 2.32008075e+01, 9.24954784e+01, 2.19439668e+02,\n",
       "       4.27698080e+02, 6.31131067e+02, 9.05773738e+02, 1.16529687e+03,\n",
       "       1.28219277e+03, 1.23351933e+03, 1.09034012e+03, 8.82789099e+02,\n",
       "       7.26724558e+02, 5.23459986e+02, 3.45778063e+02, 2.08353021e+02,\n",
       "       1.10624593e+02, 4.18520306e+01, 1.58110107e+01, 3.40777397e+00,\n",
       "       1.94759195e-02, 8.28809524e-02, 0.00000000e+00, 0.00000000e+00,\n",
       "       0.00000000e+00, 0.00000000e+00, 0.00000000e+00, 0.00000000e+00,\n",
       "       0.00000000e+00, 9.02126602e-01, 5.52653803e+00, 1.54785620e+01,\n",
       "       2.06441456e+01, 3.43017827e+01, 5.21246770e+01, 7.97142975e+01,\n",
       "       1.00081387e+02, 1.02608696e+02, 1.26673478e+02, 1.14405059e+02,\n",
       "       8.98716430e+01, 6.32064973e+01, 3.98525769e+01, 2.14722761e+01,\n",
       "       1.07222715e+01, 3.09714228e+00, 3.58912164e+00, 1.71614970e-01,\n",
       "       0.00000000e+00, 0.00000000e+00, 0.00000000e+00, 0.00000000e+00])"
      ]
     },
     "execution_count": 6,
     "metadata": {},
     "output_type": "execute_result"
    }
   ],
   "source": [
    "X.var().values  #X.var() is an series"
   ]
  },
  {
   "cell_type": "code",
   "execution_count": 7,
   "metadata": {},
   "outputs": [
    {
     "data": {
      "text/plain": [
       "1352.286703180131"
      ]
     },
     "execution_count": 7,
     "metadata": {},
     "output_type": "execute_result"
    }
   ],
   "source": [
    "np.median(X.var().values) # get median from the series"
   ]
  },
  {
   "cell_type": "code",
   "execution_count": 8,
   "metadata": {},
   "outputs": [
    {
     "data": {
      "text/plain": [
       "(42000, 392)"
      ]
     },
     "execution_count": 8,
     "metadata": {},
     "output_type": "execute_result"
    }
   ],
   "source": [
    "X_fsvar = VarianceThreshold(np.median(X.var().values)).fit_transform(X) #instantiate - fit_transform\n",
    "X_fsvar.shape"
   ]
  },
  {
   "cell_type": "markdown",
   "metadata": {},
   "source": [
    "When the feature is dichotomized, the value of the feature is Bernoulli random variable, and the variance of these variables can be calculated as: \n",
    "- **Var[x] = p(1-p)**\n",
    "\n",
    "If the feature is Bernoulli random variable, assume p = 0.8, that is, delete the feature when some category accounts for more than 80% of the dichotomous feature"
   ]
  },
  {
   "cell_type": "code",
   "execution_count": 9,
   "metadata": {},
   "outputs": [
    {
     "data": {
      "text/plain": [
       "(42000, 685)"
      ]
     },
     "execution_count": 9,
     "metadata": {},
     "output_type": "execute_result"
    }
   ],
   "source": [
    "X_bvar = VarianceThreshold(.8 * (1 - .8)).fit_transform(X)\n",
    "X_bvar.shape"
   ]
  },
  {
   "cell_type": "markdown",
   "metadata": {},
   "source": [
    "### 1.2 influence of variance filtering on the model"
   ]
  },
  {
   "cell_type": "code",
   "execution_count": 10,
   "metadata": {},
   "outputs": [],
   "source": [
    "#KNN vs Random Forest Performance under different variance:\n",
    "from sklearn.ensemble import RandomForestClassifier as RFC \n",
    "from sklearn.neighbors import KNeighborsClassifier as KNN \n",
    "from sklearn.model_selection import cross_val_score\n",
    "\n",
    "\n",
    "X = data.iloc[:,1:] \n",
    "y = data.iloc[:,0]\n",
    "X_fsvar = VarianceThreshold(np.median(X.var().values)).fit_transform(X)"
   ]
  },
  {
   "cell_type": "code",
   "execution_count": null,
   "metadata": {},
   "outputs": [],
   "source": [
    "#KNN: before filter\n",
    "cross_val_score(KNN(),X,y,cv=5).mean() #5 folds to get mean \n",
    "\n",
    "%%timeit\n",
    "cross_val_score(KNN(),X,y,cv=5).mean()"
   ]
  },
  {
   "cell_type": "code",
   "execution_count": null,
   "metadata": {},
   "outputs": [],
   "source": [
    "#KNN: after filter\n",
    "cross_val_score(KNN(),X_fsvar,y,cv=5).mean() #after get variance, 5 folds get mean\n",
    "\n",
    "%%timeit\n",
    "cross_val_score(KNN(),X,y,cv=5).mean()"
   ]
  },
  {
   "cell_type": "code",
   "execution_count": 15,
   "metadata": {},
   "outputs": [
    {
     "data": {
      "text/plain": [
       "0.9373571428571429"
      ]
     },
     "execution_count": 15,
     "metadata": {},
     "output_type": "execute_result"
    }
   ],
   "source": [
    "#Random Forest: before filter\n",
    "cross_val_score(RFC(n_estimators=10,random_state=0),X,y,cv=5).mean() #10 trees, 5 folds"
   ]
  },
  {
   "cell_type": "code",
   "execution_count": 16,
   "metadata": {},
   "outputs": [
    {
     "data": {
      "text/plain": [
       "0.9390476190476191"
      ]
     },
     "execution_count": 16,
     "metadata": {},
     "output_type": "execute_result"
    }
   ],
   "source": [
    "#Random Forest: after filter\n",
    "cross_val_score(RFC(n_estimators=10,random_state=0),X_fsvar,y,cv=5).mean()"
   ]
  },
  {
   "cell_type": "markdown",
   "metadata": {},
   "source": [
    "## 2. Chi-square filter (Correlation filter)\n",
    "\n",
    "The filtering method for discrete tags (that is, classification problem). It is characterized by a chi-square statistic from high to low. But only for **NON-Negative features** (preprocessing)."
   ]
  },
  {
   "cell_type": "code",
   "execution_count": 17,
   "metadata": {},
   "outputs": [
    {
     "data": {
      "text/plain": [
       "(42000, 300)"
      ]
     },
     "execution_count": 17,
     "metadata": {},
     "output_type": "execute_result"
    }
   ],
   "source": [
    "from sklearn.ensemble import RandomForestClassifier as RFC\n",
    "from sklearn.model_selection import cross_val_score\n",
    "from sklearn.feature_selection import SelectKBest\n",
    "from sklearn.feature_selection import chi2\n",
    "\n",
    "#Assume we need 300 features (K-best) at least. \n",
    "X_fschi = SelectKBest(chi2, k=300).fit_transform(X_fsvar, y) \n",
    "            #SelectKBest(method, highest k's best features)\n",
    "X_fschi.shape"
   ]
  },
  {
   "cell_type": "code",
   "execution_count": 18,
   "metadata": {},
   "outputs": [
    {
     "data": {
      "text/plain": [
       "0.9344761904761905"
      ]
     },
     "execution_count": 18,
     "metadata": {},
     "output_type": "execute_result"
    }
   ],
   "source": [
    "#check model performance:\n",
    "cross_val_score(RFC(n_estimators=10,random_state=0),X_fschi,y,cv=5).mean()"
   ]
  },
  {
   "cell_type": "markdown",
   "metadata": {},
   "source": [
    "### 2.1 First way to select k: graph"
   ]
  },
  {
   "cell_type": "code",
   "execution_count": 20,
   "metadata": {},
   "outputs": [
    {
     "data": {
      "image/png": "[encoded data removed]",
      "text/plain": [
       "<Figure size 432x288 with 1 Axes>"
      ]
     },
     "metadata": {
      "needs_background": "light"
     },
     "output_type": "display_data"
    }
   ],
   "source": [
    "%matplotlib inline\n",
    "import matplotlib.pyplot as plt\n",
    "\n",
    "score = []\n",
    "for i in range(350,200,-10):\n",
    "    X_fschi = SelectKBest(chi2, k=i).fit_transform(X_fsvar, y)\n",
    "    once = cross_val_score(RFC(n_estimators=10,random_state=0),X_fschi,y,cv=5).mean() \n",
    "    score.append(once)\n",
    "\n",
    "plt.plot(range(350,200,-10),score) \n",
    "plt.show()"
   ]
  },
  {
   "cell_type": "markdown",
   "metadata": {},
   "source": [
    "### 2.2 Second way to select k : p-value\n",
    "\n",
    "- P-value:     (<= 0.05 or 0.01)          ||    (>0.05 or 0.01)\n",
    "- difference:   not form naturely ||          naturely formed (samples errors)\n",
    "- correlation:  two groups data corr   ||     two groups data independent\n",
    "- Null Hypothe: reject H0, accept H1     ||  Accept H0"
   ]
  },
  {
   "cell_type": "code",
   "execution_count": 21,
   "metadata": {},
   "outputs": [
    {
     "data": {
      "text/plain": [
       "array([ 945664.84392643, 1244766.05139164, 1554872.30384525,\n",
       "       1834161.78305343, 1903618.94085294, 1845226.62427198,\n",
       "       1602117.23307537,  708535.17489837,  974050.20513718,\n",
       "       1188092.19961931, 1319151.43467036, 1397847.8836796 ,\n",
       "       1433554.26798015, 1429043.15373433, 1332663.17213405,\n",
       "       1101423.25372261,  809989.56940485,  519266.71772284,\n",
       "        285681.88297156,  191589.23696468,  902883.1255264 ,\n",
       "       1237265.16042373, 1503477.73699155, 1625807.41495542,\n",
       "       1630206.90922916, 1630597.02883804, 1633456.72909664,\n",
       "       1610816.75571229, 1483382.49543886, 1256290.1574794 ,\n",
       "        951236.1617682 ,  693192.66191748,  532386.96220361,\n",
       "        504617.38933715,  575090.36046243,  501025.03733245,\n",
       "        802341.10683194, 1078344.8724406 , 1226540.98318702,\n",
       "       1269945.07968831, 1221758.57688808, 1146535.17810241,\n",
       "       1080657.20185303, 1079065.30979135, 1092222.70610032,\n",
       "       1064908.45385716, 1023327.00231067,  974163.15420165,\n",
       "        918857.12860617,  861439.52030749,  828439.23565047,\n",
       "        916454.89464771,  989713.58229958,  543695.5016699 ,\n",
       "        674691.76755044,  708113.57226969,  657819.3908855 ,\n",
       "        599159.21961671,  576483.60795847,  559848.1818137 ,\n",
       "        536985.56062372,  561457.57734769,  594428.19185935,\n",
       "        592414.89830452,  587801.84097643,  672232.60135169,\n",
       "        790511.70530618,  866573.70991777,  891422.58050934,\n",
       "        905163.15191882, 1006322.94034634,  585209.83598254,\n",
       "        699596.88963547,  705326.82387203,  641105.0929774 ,\n",
       "        632098.97938142,  725189.43548604,  853879.48154986,\n",
       "        863895.50862873,  709440.99808713,  615099.361498  ,\n",
       "        660082.35138802,  662040.13166049,  647432.43321103,\n",
       "        718070.06251003,  868119.93550552,  995128.78948214,\n",
       "        981295.46383871,  888906.74357254,  803951.63399892,\n",
       "        775220.92445238,  802661.20360682,  806753.10120013,\n",
       "        827660.8911231 , 1008184.76195542, 1212658.65697336,\n",
       "       1279652.35847441, 1071947.51866571,  712579.55021262,\n",
       "        708178.91784269,  931871.22430817,  836155.03350401,\n",
       "        781584.17446604,  883252.58134165, 1015304.18853993,\n",
       "       1153480.28062008, 1235182.10720641, 1110286.29490637,\n",
       "        762412.0228271 ,  651475.7374445 ,  659784.45490334,\n",
       "        761439.40964843,  980458.35707785, 1285689.5977369 ,\n",
       "       1412800.83270279, 1269424.03486304,  844394.53343881,\n",
       "        453037.70035635,  906205.5333485 , 1314337.38985735,\n",
       "        875502.64893107,  848574.25317153, 1088364.70535319,\n",
       "       1143964.61799576, 1231934.57606489, 1525266.11466634,\n",
       "       1624923.27849511, 1120921.66905394,  381196.04594987,\n",
       "        517011.13080559,  840830.08443577, 1249668.53527256,\n",
       "       1487299.06201808, 1440993.69232521, 1234157.54433962,\n",
       "        891091.32709079,  767327.74644144, 1767505.95851489,\n",
       "       1794612.36340341,  843649.64862696,  974860.15688277,\n",
       "       1282142.9789604 , 1121437.99502364, 1158258.4373389 ,\n",
       "       1803319.16430163, 2247538.01212782, 1715860.1009172 ,\n",
       "        308268.96279553,  670765.24199637, 1175840.18589306,\n",
       "       1569563.41213805, 1615071.70298461, 1453812.39367812,\n",
       "       1429193.59276003, 1469624.15320088, 1610038.8334007 ,\n",
       "       2381990.83018419, 1684641.44646863,  781514.82471784,\n",
       "       1136274.26981954, 1258505.95202954,  900621.20914746,\n",
       "       1033026.39393914, 2032592.30559197, 2688297.40292302,\n",
       "       2126052.31008566,  477854.94097719, 1061876.2951535 ,\n",
       "       1617721.02614334, 1859303.87013649, 1706658.49975169,\n",
       "       1442798.15960511, 1497467.99791583, 1635633.52918659,\n",
       "       1789954.0440811 , 2042036.97897042, 1243975.13567915,\n",
       "        847897.40531407, 1334491.44036763, 1146547.23628072,\n",
       "        721408.29456933, 1099901.34212844, 2234797.26301007,\n",
       "       2788060.61506624, 2097404.45292914,  770825.17396301,\n",
       "       1509971.18325275, 2008828.59327289, 2076128.28182046,\n",
       "       1775258.41727455, 1374882.05100453, 1223860.78474695,\n",
       "       1190499.55493678, 1469994.89713294, 1556218.16894472,\n",
       "        936604.6211571 , 1052799.96220046, 1487484.96092392,\n",
       "       1096221.91497984,  754081.7574313 , 1308952.47883141,\n",
       "       2269151.28497174, 2519422.4441161 , 1816912.55593098,\n",
       "       1090497.85622876, 1822356.78804369, 2192372.5304657 ,\n",
       "       2133745.04961112, 1807649.67676254, 1420349.92183107,\n",
       "       1222343.35267926, 1165504.99607627, 1500572.78318498,\n",
       "       1432663.59271325,  890862.82928644, 1274280.76943075,\n",
       "       1432072.36165076,  956997.59590817,  888742.14373383,\n",
       "       1508163.46238821, 2117988.12236915, 2054465.38907916,\n",
       "       1423918.25987689, 1286013.85962749, 1972608.25057539,\n",
       "       2179634.12755044, 1979740.23184782, 1717723.16781811,\n",
       "       1552275.10457858, 1461315.1411536 , 1494620.94971976,\n",
       "       1739520.65681857, 1442815.46046628, 1014723.34171191,\n",
       "       1363794.15539944, 1122747.63831017,  739634.35332833,\n",
       "       1067567.31929299, 1667592.5097389 , 1864455.97854722,\n",
       "       1579099.16973703,  967688.45447601, 1416605.83453248,\n",
       "       2062165.61891584, 2170645.77302745, 1901786.79198259,\n",
       "       1733725.85760386, 1753508.37671084, 1712712.42549789,\n",
       "       1733493.582237  , 1770340.59820148, 1310901.04423274,\n",
       "       1008023.90988477, 1061378.72275934,  662457.8217003 ,\n",
       "        729648.40292041, 1370253.32454603, 1741943.51510473,\n",
       "       1593454.39731162, 1172442.70958932,  671601.50140396,\n",
       "        511587.36577997, 1454955.01309647, 2126817.74478926,\n",
       "       2263953.8025206 , 2028172.33782053, 1992515.52928071,\n",
       "       2172520.74824953, 2035403.53821729, 1758624.07224114,\n",
       "       1514817.58748747, 1002116.10560135,  669379.60246184,\n",
       "        544978.32282227,  576722.03477821, 1098371.32650041,\n",
       "       1603057.05343338, 1612844.96289426, 1293107.69776289,\n",
       "        917550.19379029,  683222.7639966 ,  608782.99701169,\n",
       "       1391473.37940334, 2082151.30610954, 2298916.31712188,\n",
       "       2140360.89085296, 2070900.53848134, 2159471.16950063,\n",
       "       1981772.43302263, 1521754.51234479, 1076334.48566226,\n",
       "        610262.09016783,  351852.98340462,  461487.7601437 ,\n",
       "        878540.35993713, 1337597.14727232, 1481891.62067955,\n",
       "       1342562.57238699, 1127940.79389167,  958491.4694589 ,\n",
       "        884951.02023249,  671520.41386273, 1232265.31295026,\n",
       "       1877169.85821324, 2239501.99047448, 2199634.11766741,\n",
       "       1930471.52367226, 1666073.70450191, 1364054.30645472,\n",
       "       1000936.25390226,  656080.48075838,  389810.08772878,\n",
       "        340150.21186292,  602275.43941511,  959623.37641551,\n",
       "       1156974.48558905, 1135816.98677808, 1044294.97185606,\n",
       "        992281.03054232,  964376.78121192,  966024.75721634,\n",
       "       1491250.50567589, 1970679.86657318, 2139321.52912066,\n",
       "       1894361.40873889, 1368494.5514217 ,  829396.07488768,\n",
       "        488455.25931088,  331978.08818759,  293365.6522867 ,\n",
       "        387474.16211622,  600489.80555106,  783767.50733716,\n",
       "        831013.99296771,  768407.80393857,  738760.56078587,\n",
       "        761413.22072658,  781528.79224194,  615612.72460389,\n",
       "        975765.83585216, 1382346.6477236 , 1684701.13053512,\n",
       "       1732335.2436048 , 1492804.58962318, 1144230.23099215,\n",
       "        852589.97157847,  719215.03719448,  675891.53891187,\n",
       "        687917.5152402 ,  708292.70911948,  673810.32849758,\n",
       "        550803.45299243,  428370.7943997 ,  384587.47807058,\n",
       "        407022.00975206,  441201.32284902,  661202.45504685,\n",
       "        904150.80474087, 1098249.34334037, 1225055.2730661 ,\n",
       "       1312843.88397644, 1325774.40817926, 1236093.76813092,\n",
       "       1036608.01098297,  829620.55626671,  654964.88596563,\n",
       "        520032.72156302,  387948.22204601,  273436.39846809,\n",
       "        203015.85080751,  255471.93956392,  389884.80778864,\n",
       "        561308.92316732,  759511.94695328,  942402.80700557,\n",
       "       1044698.95132913, 1009807.32615993,  844407.23356341,\n",
       "        695110.21243546,  637789.62877943,  600582.89899187,\n",
       "        519392.9652949 ,  399631.65341907, 1006027.89058975,\n",
       "       1352052.90333271, 1647606.90721159, 1761733.4081397 ,\n",
       "       1664096.76785043, 1396834.58681766, 1159784.3628775 ,\n",
       "       1001178.01359166,  847886.28143964])"
      ]
     },
     "execution_count": 21,
     "metadata": {},
     "output_type": "execute_result"
    }
   ],
   "source": [
    "chivalue, pvalues_chi = chi2(X_fsvar,y)\n",
    "chivalue"
   ]
  },
  {
   "cell_type": "code",
   "execution_count": 22,
   "metadata": {},
   "outputs": [
    {
     "data": {
      "text/plain": [
       "array([0., 0., 0., 0., 0., 0., 0., 0., 0., 0., 0., 0., 0., 0., 0., 0., 0.,\n",
       "       0., 0., 0., 0., 0., 0., 0., 0., 0., 0., 0., 0., 0., 0., 0., 0., 0.,\n",
       "       0., 0., 0., 0., 0., 0., 0., 0., 0., 0., 0., 0., 0., 0., 0., 0., 0.,\n",
       "       0., 0., 0., 0., 0., 0., 0., 0., 0., 0., 0., 0., 0., 0., 0., 0., 0.,\n",
       "       0., 0., 0., 0., 0., 0., 0., 0., 0., 0., 0., 0., 0., 0., 0., 0., 0.,\n",
       "       0., 0., 0., 0., 0., 0., 0., 0., 0., 0., 0., 0., 0., 0., 0., 0., 0.,\n",
       "       0., 0., 0., 0., 0., 0., 0., 0., 0., 0., 0., 0., 0., 0., 0., 0., 0.,\n",
       "       0., 0., 0., 0., 0., 0., 0., 0., 0., 0., 0., 0., 0., 0., 0., 0., 0.,\n",
       "       0., 0., 0., 0., 0., 0., 0., 0., 0., 0., 0., 0., 0., 0., 0., 0., 0.,\n",
       "       0., 0., 0., 0., 0., 0., 0., 0., 0., 0., 0., 0., 0., 0., 0., 0., 0.,\n",
       "       0., 0., 0., 0., 0., 0., 0., 0., 0., 0., 0., 0., 0., 0., 0., 0., 0.,\n",
       "       0., 0., 0., 0., 0., 0., 0., 0., 0., 0., 0., 0., 0., 0., 0., 0., 0.,\n",
       "       0., 0., 0., 0., 0., 0., 0., 0., 0., 0., 0., 0., 0., 0., 0., 0., 0.,\n",
       "       0., 0., 0., 0., 0., 0., 0., 0., 0., 0., 0., 0., 0., 0., 0., 0., 0.,\n",
       "       0., 0., 0., 0., 0., 0., 0., 0., 0., 0., 0., 0., 0., 0., 0., 0., 0.,\n",
       "       0., 0., 0., 0., 0., 0., 0., 0., 0., 0., 0., 0., 0., 0., 0., 0., 0.,\n",
       "       0., 0., 0., 0., 0., 0., 0., 0., 0., 0., 0., 0., 0., 0., 0., 0., 0.,\n",
       "       0., 0., 0., 0., 0., 0., 0., 0., 0., 0., 0., 0., 0., 0., 0., 0., 0.,\n",
       "       0., 0., 0., 0., 0., 0., 0., 0., 0., 0., 0., 0., 0., 0., 0., 0., 0.,\n",
       "       0., 0., 0., 0., 0., 0., 0., 0., 0., 0., 0., 0., 0., 0., 0., 0., 0.,\n",
       "       0., 0., 0., 0., 0., 0., 0., 0., 0., 0., 0., 0., 0., 0., 0., 0., 0.,\n",
       "       0., 0., 0., 0., 0., 0., 0., 0., 0., 0., 0., 0., 0., 0., 0., 0., 0.,\n",
       "       0., 0., 0., 0., 0., 0., 0., 0., 0., 0., 0., 0., 0., 0., 0., 0., 0.,\n",
       "       0.])"
      ]
     },
     "execution_count": 22,
     "metadata": {},
     "output_type": "execute_result"
    }
   ],
   "source": [
    "pvalues_chi #all 0 means all feature's p-value < 0.05. (Correlated with labels)\n",
    "#so we removed more features the performace will decrease more. "
   ]
  },
  {
   "cell_type": "code",
   "execution_count": 24,
   "metadata": {},
   "outputs": [
    {
     "data": {
      "text/plain": [
       "392"
      ]
     },
     "execution_count": 24,
     "metadata": {},
     "output_type": "execute_result"
    }
   ],
   "source": [
    "#k should be?we want to remove all p-values > threshold，such as 0.05 or 0.01:\n",
    "#Remove all p-values > 0.05 (i.e.) \n",
    "k = chivalue.shape[0] - (pvalues_chi > 0.05).sum()\n",
    "k"
   ]
  },
  {
   "cell_type": "code",
   "execution_count": null,
   "metadata": {},
   "outputs": [],
   "source": [
    "#X_fschi = SelectKBest(chi2, k=after selected K).fit_transform(X_fsvar, y)\n",
    "#cross_val_score(RFC(n_estimators=10,random_state=0),X_fschi,y,cv=5).mean()"
   ]
  },
  {
   "cell_type": "markdown",
   "metadata": {},
   "source": [
    "## F-Score: (ANOVA, or homogeneity test of variance)\n",
    "\n",
    "A filtering method to capture the linear relationship between each feature and the label. It can do either regression(**feature_selection.f_regression**) with continuous data or classification(**feature_selection.f_classif**) with discrete data. Both need to work with **SelectKBest**. "
   ]
  },
  {
   "cell_type": "code",
   "execution_count": 25,
   "metadata": {
    "scrolled": true
   },
   "outputs": [
    {
     "data": {
      "text/plain": [
       "array([ 618.65383492,  846.18897012, 1115.40617051, 1362.3677305 ,\n",
       "       1452.03355369, 1381.09095571, 1138.26505266,  464.29616121,\n",
       "        660.00977785,  849.66393412, 1004.7450309 , 1124.76177588,\n",
       "       1200.99190762, 1209.29489877, 1110.4944286 ,  854.66183292,\n",
       "        577.52063451,  342.09729054,  178.67397866,  118.01145533,\n",
       "        612.12261014,  899.40904291, 1196.17528948, 1424.49864852,\n",
       "       1569.26556677, 1742.49910702, 1910.98023795, 1969.20520223,\n",
       "       1731.37475948, 1295.09668012,  839.15325001,  531.97951763,\n",
       "        371.82392681,  336.00820537,  378.93378743,  317.47025479,\n",
       "        528.94881012,  766.40792176,  947.63168717, 1086.0472161 ,\n",
       "       1177.72017709, 1253.79641973, 1344.06961068, 1507.33781169,\n",
       "       1616.50454434, 1512.25864876, 1289.65180587, 1051.26276412,\n",
       "        839.48869386,  680.07426932,  600.85538567,  633.55772663,\n",
       "        683.96908509,  347.65867784,  452.76238211,  509.16387684,\n",
       "        515.7498157 ,  532.86107778,  594.62512658,  664.18740444,\n",
       "        709.37133696,  798.11767931,  876.69849088,  852.76926441,\n",
       "        785.70173347,  802.88980095,  813.2041131 ,  760.85552527,\n",
       "        687.94148028,  642.84071735,  698.11530217,  367.16414289,\n",
       "        455.90449427,  485.50500277,  476.23046034,  536.72332365,\n",
       "        740.12587382, 1041.38089649, 1168.8028973 ,  941.91083922,\n",
       "        795.72843454,  861.29818828,  868.19464432,  838.80173567,\n",
       "        886.26659655,  959.12740961,  934.56890789,  783.1988476 ,\n",
       "        631.01107034,  542.02937189,  493.83337615,  533.27899195,\n",
       "        572.34131749,  657.20547321,  981.66873526, 1465.82267956,\n",
       "       1756.05831022, 1385.28086085,  798.73125604,  761.40508874,\n",
       "       1062.6919609 ,  979.38193965,  947.82602644, 1085.00522683,\n",
       "       1152.13801689, 1118.1595422 , 1021.13086631,  812.37823266,\n",
       "        509.86857625,  411.37986706,  430.7150329 ,  545.55866945,\n",
       "        829.92259533, 1376.4852629 , 1811.62922878, 1601.33613631,\n",
       "        898.8719158 ,  417.37765921,  895.77244253, 1455.38592931,\n",
       "        956.2421521 ,  990.1748413 , 1359.47406197, 1279.27992017,\n",
       "       1166.80888121, 1291.41792351, 1263.86987819,  787.81807986,\n",
       "        237.21811742,  333.12552194,  621.47324186, 1139.04489426,\n",
       "       1713.54508435, 1823.42451065, 1436.53069242,  884.19442779,\n",
       "        717.63373994, 2026.90370414, 2219.46450157,  943.55587655,\n",
       "       1217.29127813, 1677.03878308, 1193.63540136, 1039.56842784,\n",
       "       1570.18098323, 1878.5600272 , 1284.78903715,  190.02740438,\n",
       "        444.17019739,  928.80156872, 1562.54171587, 1940.54801063,\n",
       "       1816.57346013, 1683.83193784, 1619.17496376, 1865.78706551,\n",
       "       3482.82350415, 2326.10253286,  990.67999393, 1632.46650414,\n",
       "       1652.51500198,  891.26746579,  883.96689508, 1805.57103626,\n",
       "       2389.97435433, 1630.34926872,  301.84091297,  746.3286491 ,\n",
       "       1394.82469151, 2008.19411716, 2107.3680475 , 1767.97892382,\n",
       "       1786.08753011, 1980.1986791 , 2509.14739387, 3366.13986444,\n",
       "       1959.90573326, 1299.36608875, 2218.28123025, 1470.25657381,\n",
       "        681.02610086,  937.54741741, 2037.45812231, 2518.68810085,\n",
       "       1583.0009463 ,  509.76276636, 1139.21364745, 1881.71834116,\n",
       "       2351.30851824, 2175.48525458, 1624.49647062, 1399.44534221,\n",
       "       1440.98664744, 2229.25720739, 2764.00452882, 1633.74258116,\n",
       "       1870.29253742, 2628.79930504, 1367.31440177,  707.38857243,\n",
       "       1150.06936228, 2089.08213594, 2185.00557858, 1318.14722036,\n",
       "        747.37697661, 1453.94015412, 2116.40726513, 2399.53090598,\n",
       "       2143.53519978, 1651.89817908, 1414.71662551, 1481.62100314,\n",
       "       2468.21266727, 2666.18025642, 1520.6400065 , 2223.14029953,\n",
       "       2271.07109628, 1111.06997494,  844.31183874, 1388.60413626,\n",
       "       1917.10207189, 1667.61400215,  996.09054823,  907.80926355,\n",
       "       1607.70263546, 2085.21461056, 2073.68356276, 1880.26929744,\n",
       "       1756.40165025, 1716.45478479, 1964.08537105, 2796.13761562,\n",
       "       2413.09378391, 1543.01310963, 2118.10377396, 1475.29541488,\n",
       "        783.59003763, 1040.65400476, 1582.46200024, 1617.32566033,\n",
       "       1188.24554305,  642.2665701 , 1011.30241064, 1725.70185142,\n",
       "       2067.20755476, 1893.35116837, 1795.96538455, 1922.58627318,\n",
       "       1951.69309645, 2115.44871238, 2479.27958039, 1809.12095649,\n",
       "       1330.8686207 , 1396.29767244,  741.9063402 ,  751.14036409,\n",
       "       1410.18529816, 1677.6595494 , 1308.77910167,  836.77047561,\n",
       "        430.93133677,  313.888671  , 1039.31894918, 1811.68171256,\n",
       "       2191.69964967, 2035.63638826, 2114.65218363, 2511.27142071,\n",
       "       2363.46743373, 2053.7687027 , 1865.84769096, 1202.94179711,\n",
       "        793.61414555,  633.71267282,  636.18282736, 1218.61245591,\n",
       "       1712.62901816, 1484.60290068,  996.06129466,  626.13659134,\n",
       "        441.56356583,  374.08815796,  983.21640593, 1764.93014215,\n",
       "       2264.93587233, 2262.87269162, 2323.50890468, 2611.66920897,\n",
       "       2387.45723028, 1763.5696083 , 1256.32165954,  704.77285945,\n",
       "        406.94580935,  548.06969664, 1051.50016486, 1542.11172909,\n",
       "       1494.38472469, 1130.61174365,  823.84437277,  650.69506052,\n",
       "        594.18011033,  415.73313115,  853.97575783, 1548.7167469 ,\n",
       "       2204.00694989, 2444.69535795, 2267.62871155, 2003.69161124,\n",
       "       1643.94961527, 1202.35520102,  804.18805494,  483.32932365,\n",
       "        420.99263006,  750.06949525, 1136.32227345, 1202.49476981,\n",
       "        990.75097727,  791.03016258,  692.46641159,  653.96372577,\n",
       "        647.90433225, 1149.80460733, 1826.54973661, 2361.75564926,\n",
       "       2313.09139096, 1694.26613916, 1012.97938867,  608.4174945 ,\n",
       "        432.07115684,  383.54620406,  487.70312805,  698.78061024,\n",
       "        797.0763827 ,  714.70722998,  574.2849126 ,  507.5143557 ,\n",
       "        508.77434021,  510.36884435,  404.13860698,  686.31274396,\n",
       "       1103.81003251, 1590.83695172, 1912.74984902, 1832.62220523,\n",
       "       1482.39046946, 1142.10827805,  968.65089356,  860.24853405,\n",
       "        780.75215696,  696.78170045,  567.41403081,  403.59649375,\n",
       "        284.91007929,  245.59060983,  255.97458001,  293.6787996 ,\n",
       "        460.46868009,  687.29383613,  940.06512113, 1205.58777055,\n",
       "       1485.37178744, 1623.12886955, 1488.04856361, 1119.91615126,\n",
       "        770.06544455,  530.6398126 ,  376.66549502,  258.05875548,\n",
       "        172.20323661,  123.79865884,  160.44132806,  249.15104257,\n",
       "        374.15221131,  544.73535425,  727.78945347,  853.98680046,\n",
       "        819.19801306,  656.55547718,  510.87851723,  445.09613969,\n",
       "        401.25608847,  333.48574029,  243.88699402,  645.9545719 ,\n",
       "        920.3259526 , 1196.07900013, 1308.12260763, 1218.37705687,\n",
       "        996.41501921,  792.59409228,  663.47516843,  550.14745143])"
      ]
     },
     "execution_count": 25,
     "metadata": {},
     "output_type": "execute_result"
    }
   ],
   "source": [
    "from sklearn.feature_selection import f_classif\n",
    "\n",
    "F, pvalues_f = f_classif(X_fsvar, y)\n",
    "\n",
    "F"
   ]
  },
  {
   "cell_type": "code",
   "execution_count": 26,
   "metadata": {
    "scrolled": true
   },
   "outputs": [
    {
     "data": {
      "text/plain": [
       "array([0.00000000e+000, 0.00000000e+000, 0.00000000e+000, 0.00000000e+000,\n",
       "       0.00000000e+000, 0.00000000e+000, 0.00000000e+000, 0.00000000e+000,\n",
       "       0.00000000e+000, 0.00000000e+000, 0.00000000e+000, 0.00000000e+000,\n",
       "       0.00000000e+000, 0.00000000e+000, 0.00000000e+000, 0.00000000e+000,\n",
       "       0.00000000e+000, 0.00000000e+000, 0.00000000e+000, 4.71193533e-220,\n",
       "       0.00000000e+000, 0.00000000e+000, 0.00000000e+000, 0.00000000e+000,\n",
       "       0.00000000e+000, 0.00000000e+000, 0.00000000e+000, 0.00000000e+000,\n",
       "       0.00000000e+000, 0.00000000e+000, 0.00000000e+000, 0.00000000e+000,\n",
       "       0.00000000e+000, 0.00000000e+000, 0.00000000e+000, 0.00000000e+000,\n",
       "       0.00000000e+000, 0.00000000e+000, 0.00000000e+000, 0.00000000e+000,\n",
       "       0.00000000e+000, 0.00000000e+000, 0.00000000e+000, 0.00000000e+000,\n",
       "       0.00000000e+000, 0.00000000e+000, 0.00000000e+000, 0.00000000e+000,\n",
       "       0.00000000e+000, 0.00000000e+000, 0.00000000e+000, 0.00000000e+000,\n",
       "       0.00000000e+000, 0.00000000e+000, 0.00000000e+000, 0.00000000e+000,\n",
       "       0.00000000e+000, 0.00000000e+000, 0.00000000e+000, 0.00000000e+000,\n",
       "       0.00000000e+000, 0.00000000e+000, 0.00000000e+000, 0.00000000e+000,\n",
       "       0.00000000e+000, 0.00000000e+000, 0.00000000e+000, 0.00000000e+000,\n",
       "       0.00000000e+000, 0.00000000e+000, 0.00000000e+000, 0.00000000e+000,\n",
       "       0.00000000e+000, 0.00000000e+000, 0.00000000e+000, 0.00000000e+000,\n",
       "       0.00000000e+000, 0.00000000e+000, 0.00000000e+000, 0.00000000e+000,\n",
       "       0.00000000e+000, 0.00000000e+000, 0.00000000e+000, 0.00000000e+000,\n",
       "       0.00000000e+000, 0.00000000e+000, 0.00000000e+000, 0.00000000e+000,\n",
       "       0.00000000e+000, 0.00000000e+000, 0.00000000e+000, 0.00000000e+000,\n",
       "       0.00000000e+000, 0.00000000e+000, 0.00000000e+000, 0.00000000e+000,\n",
       "       0.00000000e+000, 0.00000000e+000, 0.00000000e+000, 0.00000000e+000,\n",
       "       0.00000000e+000, 0.00000000e+000, 0.00000000e+000, 0.00000000e+000,\n",
       "       0.00000000e+000, 0.00000000e+000, 0.00000000e+000, 0.00000000e+000,\n",
       "       0.00000000e+000, 0.00000000e+000, 0.00000000e+000, 0.00000000e+000,\n",
       "       0.00000000e+000, 0.00000000e+000, 0.00000000e+000, 0.00000000e+000,\n",
       "       0.00000000e+000, 0.00000000e+000, 0.00000000e+000, 0.00000000e+000,\n",
       "       0.00000000e+000, 0.00000000e+000, 0.00000000e+000, 0.00000000e+000,\n",
       "       0.00000000e+000, 0.00000000e+000, 0.00000000e+000, 0.00000000e+000,\n",
       "       0.00000000e+000, 0.00000000e+000, 0.00000000e+000, 0.00000000e+000,\n",
       "       0.00000000e+000, 0.00000000e+000, 0.00000000e+000, 0.00000000e+000,\n",
       "       0.00000000e+000, 0.00000000e+000, 0.00000000e+000, 0.00000000e+000,\n",
       "       0.00000000e+000, 0.00000000e+000, 0.00000000e+000, 0.00000000e+000,\n",
       "       0.00000000e+000, 0.00000000e+000, 0.00000000e+000, 0.00000000e+000,\n",
       "       0.00000000e+000, 0.00000000e+000, 0.00000000e+000, 0.00000000e+000,\n",
       "       0.00000000e+000, 0.00000000e+000, 0.00000000e+000, 0.00000000e+000,\n",
       "       0.00000000e+000, 0.00000000e+000, 0.00000000e+000, 0.00000000e+000,\n",
       "       0.00000000e+000, 0.00000000e+000, 0.00000000e+000, 0.00000000e+000,\n",
       "       0.00000000e+000, 0.00000000e+000, 0.00000000e+000, 0.00000000e+000,\n",
       "       0.00000000e+000, 0.00000000e+000, 0.00000000e+000, 0.00000000e+000,\n",
       "       0.00000000e+000, 0.00000000e+000, 0.00000000e+000, 0.00000000e+000,\n",
       "       0.00000000e+000, 0.00000000e+000, 0.00000000e+000, 0.00000000e+000,\n",
       "       0.00000000e+000, 0.00000000e+000, 0.00000000e+000, 0.00000000e+000,\n",
       "       0.00000000e+000, 0.00000000e+000, 0.00000000e+000, 0.00000000e+000,\n",
       "       0.00000000e+000, 0.00000000e+000, 0.00000000e+000, 0.00000000e+000,\n",
       "       0.00000000e+000, 0.00000000e+000, 0.00000000e+000, 0.00000000e+000,\n",
       "       0.00000000e+000, 0.00000000e+000, 0.00000000e+000, 0.00000000e+000,\n",
       "       0.00000000e+000, 0.00000000e+000, 0.00000000e+000, 0.00000000e+000,\n",
       "       0.00000000e+000, 0.00000000e+000, 0.00000000e+000, 0.00000000e+000,\n",
       "       0.00000000e+000, 0.00000000e+000, 0.00000000e+000, 0.00000000e+000,\n",
       "       0.00000000e+000, 0.00000000e+000, 0.00000000e+000, 0.00000000e+000,\n",
       "       0.00000000e+000, 0.00000000e+000, 0.00000000e+000, 0.00000000e+000,\n",
       "       0.00000000e+000, 0.00000000e+000, 0.00000000e+000, 0.00000000e+000,\n",
       "       0.00000000e+000, 0.00000000e+000, 0.00000000e+000, 0.00000000e+000,\n",
       "       0.00000000e+000, 0.00000000e+000, 0.00000000e+000, 0.00000000e+000,\n",
       "       0.00000000e+000, 0.00000000e+000, 0.00000000e+000, 0.00000000e+000,\n",
       "       0.00000000e+000, 0.00000000e+000, 0.00000000e+000, 0.00000000e+000,\n",
       "       0.00000000e+000, 0.00000000e+000, 0.00000000e+000, 0.00000000e+000,\n",
       "       0.00000000e+000, 0.00000000e+000, 0.00000000e+000, 0.00000000e+000,\n",
       "       0.00000000e+000, 0.00000000e+000, 0.00000000e+000, 0.00000000e+000,\n",
       "       0.00000000e+000, 0.00000000e+000, 0.00000000e+000, 0.00000000e+000,\n",
       "       0.00000000e+000, 0.00000000e+000, 0.00000000e+000, 0.00000000e+000,\n",
       "       0.00000000e+000, 0.00000000e+000, 0.00000000e+000, 0.00000000e+000,\n",
       "       0.00000000e+000, 0.00000000e+000, 0.00000000e+000, 0.00000000e+000,\n",
       "       0.00000000e+000, 0.00000000e+000, 0.00000000e+000, 0.00000000e+000,\n",
       "       0.00000000e+000, 0.00000000e+000, 0.00000000e+000, 0.00000000e+000,\n",
       "       0.00000000e+000, 0.00000000e+000, 0.00000000e+000, 0.00000000e+000,\n",
       "       0.00000000e+000, 0.00000000e+000, 0.00000000e+000, 0.00000000e+000,\n",
       "       0.00000000e+000, 0.00000000e+000, 0.00000000e+000, 0.00000000e+000,\n",
       "       0.00000000e+000, 0.00000000e+000, 0.00000000e+000, 0.00000000e+000,\n",
       "       0.00000000e+000, 0.00000000e+000, 0.00000000e+000, 0.00000000e+000,\n",
       "       0.00000000e+000, 0.00000000e+000, 0.00000000e+000, 0.00000000e+000,\n",
       "       0.00000000e+000, 0.00000000e+000, 0.00000000e+000, 0.00000000e+000,\n",
       "       0.00000000e+000, 0.00000000e+000, 0.00000000e+000, 0.00000000e+000,\n",
       "       0.00000000e+000, 0.00000000e+000, 0.00000000e+000, 0.00000000e+000,\n",
       "       0.00000000e+000, 0.00000000e+000, 0.00000000e+000, 0.00000000e+000,\n",
       "       0.00000000e+000, 0.00000000e+000, 0.00000000e+000, 0.00000000e+000,\n",
       "       0.00000000e+000, 0.00000000e+000, 0.00000000e+000, 0.00000000e+000,\n",
       "       0.00000000e+000, 0.00000000e+000, 0.00000000e+000, 0.00000000e+000,\n",
       "       0.00000000e+000, 0.00000000e+000, 0.00000000e+000, 0.00000000e+000,\n",
       "       0.00000000e+000, 0.00000000e+000, 0.00000000e+000, 0.00000000e+000,\n",
       "       0.00000000e+000, 0.00000000e+000, 0.00000000e+000, 0.00000000e+000,\n",
       "       0.00000000e+000, 0.00000000e+000, 0.00000000e+000, 0.00000000e+000,\n",
       "       0.00000000e+000, 0.00000000e+000, 0.00000000e+000, 0.00000000e+000,\n",
       "       0.00000000e+000, 0.00000000e+000, 0.00000000e+000, 0.00000000e+000,\n",
       "       0.00000000e+000, 0.00000000e+000, 0.00000000e+000, 0.00000000e+000,\n",
       "       0.00000000e+000, 0.00000000e+000, 0.00000000e+000, 0.00000000e+000,\n",
       "       0.00000000e+000, 0.00000000e+000, 0.00000000e+000, 0.00000000e+000,\n",
       "       0.00000000e+000, 0.00000000e+000, 0.00000000e+000, 0.00000000e+000,\n",
       "       3.26083326e-322, 5.24336441e-231, 4.04009647e-300, 0.00000000e+000,\n",
       "       0.00000000e+000, 0.00000000e+000, 0.00000000e+000, 0.00000000e+000,\n",
       "       0.00000000e+000, 0.00000000e+000, 0.00000000e+000, 0.00000000e+000,\n",
       "       0.00000000e+000, 0.00000000e+000, 0.00000000e+000, 0.00000000e+000,\n",
       "       0.00000000e+000, 0.00000000e+000, 0.00000000e+000, 0.00000000e+000,\n",
       "       0.00000000e+000, 0.00000000e+000, 0.00000000e+000, 0.00000000e+000])"
      ]
     },
     "execution_count": 26,
     "metadata": {},
     "output_type": "execute_result"
    }
   ],
   "source": [
    "pvalues_f"
   ]
  },
  {
   "cell_type": "code",
   "execution_count": 27,
   "metadata": {},
   "outputs": [
    {
     "data": {
      "text/plain": [
       "392"
      ]
     },
     "execution_count": 27,
     "metadata": {},
     "output_type": "execute_result"
    }
   ],
   "source": [
    "k = F.shape[0] - (pvalues_f > 0.05).sum()\n",
    "k"
   ]
  },
  {
   "cell_type": "code",
   "execution_count": null,
   "metadata": {},
   "outputs": [],
   "source": [
    "#X_fsF = SelectKBest(f_classif, k=填写具体的k).fit_transform(X_fsvar, y)\n",
    "#cross_val_score(RFC(n_estimators=10,random_state=0),X_fsF,y,cv=5).mean()"
   ]
  },
  {
   "cell_type": "markdown",
   "metadata": {},
   "source": [
    "## 4. Mutual Information (if large features and data)\n",
    "\n",
    "The mutual information method is a filtering method to **capture the arbitrary relation (including linear and nonlinear relation)** between each feature and the label. Similar to the F test, it can do both regression and classification, and contains two classes: **feature_selection.mutual_info_classif**(mutual information classification) and **feature_selection.mutual_info_regression**(mutual information regression).\n",
    "\n",
    "The mutual information method **does not return statistics similar to p value or F value**, but returns \"an estimate of the mutual information between each feature and the target\", which is valued between [0,1]. A value of 0 indicates that the two variables are independent, while a value of 1 indicates that the two variables are completely correlated"
   ]
  },
  {
   "cell_type": "code",
   "execution_count": 28,
   "metadata": {},
   "outputs": [],
   "source": [
    "from sklearn.feature_selection import mutual_info_classif as MIC\n",
    "\n",
    "result = MIC(X_fsvar,y)\n",
    "k = result.shape[0] - sum(result <= 0)"
   ]
  },
  {
   "cell_type": "code",
   "execution_count": 29,
   "metadata": {
    "scrolled": true
   },
   "outputs": [
    {
     "data": {
      "text/plain": [
       "array([0.06690773, 0.08276022, 0.10296669, 0.11495822, 0.11286447,\n",
       "       0.11006218, 0.08610862, 0.05459167, 0.06918791, 0.09548657,\n",
       "       0.12412966, 0.14415369, 0.16102647, 0.16283822, 0.15698418,\n",
       "       0.13107566, 0.09985111, 0.0665594 , 0.03741348, 0.02169976,\n",
       "       0.06502254, 0.09723802, 0.12682552, 0.14952912, 0.18425704,\n",
       "       0.20330217, 0.22496304, 0.23803915, 0.21491358, 0.17548064,\n",
       "       0.14276948, 0.10059921, 0.08029142, 0.05340112, 0.04039753,\n",
       "       0.03214228, 0.05479687, 0.07455185, 0.10668549, 0.11890019,\n",
       "       0.13854472, 0.14664525, 0.15817837, 0.18317373, 0.1795073 ,\n",
       "       0.1718024 , 0.15556841, 0.13184303, 0.11638397, 0.08885746,\n",
       "       0.08594925, 0.06890449, 0.06823145, 0.05189158, 0.05842258,\n",
       "       0.07236824, 0.08689894, 0.09568855, 0.10056147, 0.11017431,\n",
       "       0.11106087, 0.1222357 , 0.1265652 , 0.11525575, 0.11172128,\n",
       "       0.11309326, 0.1173553 , 0.1041515 , 0.08951308, 0.07662627,\n",
       "       0.07202231, 0.04265491, 0.05866054, 0.06598627, 0.07846314,\n",
       "       0.09189787, 0.11931341, 0.14386297, 0.14389019, 0.1198211 ,\n",
       "       0.10518443, 0.1184838 , 0.11142888, 0.11196913, 0.13115399,\n",
       "       0.13102285, 0.12371966, 0.1037334 , 0.0849863 , 0.06815238,\n",
       "       0.04200512, 0.06177262, 0.06272638, 0.09465012, 0.14090562,\n",
       "       0.18253735, 0.19994648, 0.16171923, 0.11079806, 0.10227227,\n",
       "       0.1346183 , 0.11713831, 0.12954644, 0.13689116, 0.15067956,\n",
       "       0.14152933, 0.12929804, 0.09288307, 0.07203829, 0.03634411,\n",
       "       0.05223786, 0.08165484, 0.12491951, 0.181472  , 0.22143783,\n",
       "       0.19792107, 0.11840178, 0.07480467, 0.11145526, 0.14963607,\n",
       "       0.12091213, 0.13026627, 0.15725638, 0.15498097, 0.1367976 ,\n",
       "       0.13138759, 0.10440647, 0.06686374, 0.03241811, 0.04489583,\n",
       "       0.09665413, 0.15657353, 0.20179245, 0.21163718, 0.18100869,\n",
       "       0.11981583, 0.10747672, 0.1744036 , 0.19200512, 0.13043841,\n",
       "       0.1480958 , 0.18177772, 0.15773724, 0.14441735, 0.13726956,\n",
       "       0.12540559, 0.08261562, 0.03775527, 0.06346893, 0.12626204,\n",
       "       0.19323656, 0.23023839, 0.21983092, 0.19933024, 0.16691797,\n",
       "       0.19632405, 0.26054292, 0.219433  , 0.14171121, 0.17884375,\n",
       "       0.18554251, 0.13419333, 0.12409679, 0.1441512 , 0.13558197,\n",
       "       0.10279043, 0.04006333, 0.09145956, 0.15401543, 0.21126965,\n",
       "       0.22729693, 0.2172732 , 0.19455661, 0.20199916, 0.24688919,\n",
       "       0.28196371, 0.21037421, 0.17475727, 0.21989158, 0.17922842,\n",
       "       0.12025648, 0.11988583, 0.14897632, 0.14697016, 0.09860183,\n",
       "       0.05950296, 0.11899347, 0.17371498, 0.22329494, 0.22265296,\n",
       "       0.18844087, 0.17332631, 0.17516882, 0.25023828, 0.2758331 ,\n",
       "       0.19700903, 0.21010973, 0.25002219, 0.17930044, 0.12531462,\n",
       "       0.13199924, 0.16006869, 0.14156017, 0.09074346, 0.07254215,\n",
       "       0.13351615, 0.20380691, 0.2255547 , 0.22041417, 0.19242109,\n",
       "       0.16861777, 0.19531734, 0.25712025, 0.26621706, 0.19782852,\n",
       "       0.23214429, 0.23768821, 0.16208369, 0.12878195, 0.15368882,\n",
       "       0.1604485 , 0.13045006, 0.08118258, 0.07663935, 0.14385659,\n",
       "       0.18955064, 0.20985904, 0.20405907, 0.19155725, 0.17785986,\n",
       "       0.22310942, 0.27064627, 0.25013564, 0.1905087 , 0.20758514,\n",
       "       0.18115289, 0.13452426, 0.14797858, 0.17242772, 0.14876139,\n",
       "       0.10887241, 0.07475568, 0.08482712, 0.14466757, 0.18694413,\n",
       "       0.19141842, 0.18155619, 0.19543   , 0.19134278, 0.2200612 ,\n",
       "       0.24676787, 0.19737831, 0.15801907, 0.15193557, 0.12244588,\n",
       "       0.12230938, 0.17227668, 0.18110783, 0.14103023, 0.09600351,\n",
       "       0.0574862 , 0.03647502, 0.10142101, 0.15271181, 0.18728817,\n",
       "       0.18850389, 0.19575506, 0.22047987, 0.21659728, 0.2022766 ,\n",
       "       0.19659182, 0.14232329, 0.10773724, 0.09428422, 0.11242025,\n",
       "       0.15338266, 0.19299976, 0.17593243, 0.13152514, 0.08643713,\n",
       "       0.05932658, 0.049127  , 0.09134078, 0.16218136, 0.20352733,\n",
       "       0.2139677 , 0.22023193, 0.22529429, 0.20362123, 0.17018073,\n",
       "       0.14167746, 0.09127432, 0.07097369, 0.08826688, 0.13902912,\n",
       "       0.18497843, 0.18806964, 0.15173123, 0.11629021, 0.08946257,\n",
       "       0.05253859, 0.05183947, 0.09761929, 0.15690354, 0.22054572,\n",
       "       0.24056401, 0.23595528, 0.21449468, 0.17675468, 0.13723114,\n",
       "       0.10344483, 0.06425941, 0.07154719, 0.0970286 , 0.1517094 ,\n",
       "       0.16864824, 0.14499134, 0.11512911, 0.08566282, 0.05997795,\n",
       "       0.09004846, 0.14749719, 0.19515659, 0.23039447, 0.2305734 ,\n",
       "       0.19023083, 0.14093759, 0.09861483, 0.08531423, 0.06751456,\n",
       "       0.08013506, 0.10100714, 0.11559406, 0.11824515, 0.09063204,\n",
       "       0.07603216, 0.05545775, 0.04689442, 0.06310961, 0.10710361,\n",
       "       0.14661924, 0.18102383, 0.19930835, 0.1902937 , 0.16868875,\n",
       "       0.13249945, 0.11917937, 0.11453314, 0.10869259, 0.10177812,\n",
       "       0.08311075, 0.07123141, 0.05491934, 0.04402593, 0.031268  ,\n",
       "       0.05488202, 0.07629247, 0.10944634, 0.12971906, 0.15724605,\n",
       "       0.17227875, 0.1820092 , 0.17699325, 0.15733548, 0.12185787,\n",
       "       0.09857341, 0.0666516 , 0.04577842, 0.04084632, 0.02240444,\n",
       "       0.0324873 , 0.04962738, 0.0605968 , 0.09097675, 0.11173373,\n",
       "       0.12104913, 0.12531123, 0.11337114, 0.09133612, 0.08233849,\n",
       "       0.05903568, 0.04582374, 0.02784047, 0.05761832, 0.08216065,\n",
       "       0.10240716, 0.11952069, 0.11083524, 0.10189265, 0.08042424,\n",
       "       0.07105322, 0.0606871 ])"
      ]
     },
     "execution_count": 29,
     "metadata": {},
     "output_type": "execute_result"
    }
   ],
   "source": [
    "result"
   ]
  },
  {
   "cell_type": "code",
   "execution_count": 30,
   "metadata": {},
   "outputs": [
    {
     "data": {
      "text/plain": [
       "392"
      ]
     },
     "execution_count": 30,
     "metadata": {},
     "output_type": "execute_result"
    }
   ],
   "source": [
    "k"
   ]
  },
  {
   "cell_type": "code",
   "execution_count": null,
   "metadata": {},
   "outputs": [],
   "source": [
    "#X_fsmic = SelectKBest(MIC, k=填写具体的k).fit_transform(X_fsvar, y)\n",
    "#cross_val_score(RFC(n_estimators=10,random_state=0),X_fsmic,y,cv=5).mean()"
   ]
  },
  {
   "cell_type": "markdown",
   "metadata": {},
   "source": [
    "## 5. Embedded: (if Logistic Regression)\n",
    "\n",
    "The embedding method is a method that allows the algorithm to decide which features to use by itself, that is, feature selection and algorithm training are carried out at the same time.\n",
    "\n",
    "The embedding method USES some machine learning algorithms and models for training, and obtains the weight coefficients of each feature, and selects the features from large to small according to the weight coefficients."
   ]
  },
  {
   "cell_type": "code",
   "execution_count": 31,
   "metadata": {},
   "outputs": [],
   "source": [
    "from sklearn.feature_selection import SelectFromModel\n",
    "from sklearn.ensemble import RandomForestClassifier as RFC\n",
    "\n",
    "RFC_ = RFC(n_estimators =10,random_state=0) #instantiate for RF\n",
    "X_embedded = SelectFromModel(RFC_,threshold=0.005).fit_transform(X,y)\n",
    "                        #SelectFromModel(method, remove all that small threshold)"
   ]
  },
  {
   "cell_type": "markdown",
   "metadata": {},
   "source": [
    "I just want to take out a limited number of features. The 0.005 threshold is a very high threshold for data with 780 features, as each feature can be assigned to about 0.001 feature_importances_ on average"
   ]
  },
  {
   "cell_type": "code",
   "execution_count": 32,
   "metadata": {},
   "outputs": [
    {
     "data": {
      "text/plain": [
       "(42000, 47)"
      ]
     },
     "execution_count": 32,
     "metadata": {},
     "output_type": "execute_result"
    }
   ],
   "source": [
    "X_embedded.shape\n",
    "# The dimension of the model has been significantly reduced\n",
    "#Draw the learning curve to find the best threshold"
   ]
  },
  {
   "cell_type": "code",
   "execution_count": 35,
   "metadata": {},
   "outputs": [
    {
     "data": {
      "text/plain": [
       "0.01276360214820271"
      ]
     },
     "execution_count": 35,
     "metadata": {},
     "output_type": "execute_result"
    }
   ],
   "source": [
    "RFC_.fit(X,y).feature_importances_.max()"
   ]
  },
  {
   "cell_type": "code",
   "execution_count": 33,
   "metadata": {},
   "outputs": [
    {
     "data": {
      "image/png": "[encoded data removed]",
      "text/plain": [
       "<Figure size 432x288 with 1 Axes>"
      ]
     },
     "metadata": {
      "needs_background": "light"
     },
     "output_type": "display_data"
    }
   ],
   "source": [
    "#curve to find threshold:\n",
    "\n",
    "threshold = np.linspace(0,(RFC_.fit(X,y).feature_importances_).max(),20)\n",
    "\n",
    "score = []\n",
    "for i in threshold:\n",
    "    X_embedded = SelectFromModel(RFC_,threshold=i).fit_transform(X,y) \n",
    "    once = cross_val_score(RFC_,X_embedded,y,cv=5).mean() \n",
    "    score.append(once)\n",
    "\n",
    "plt.plot(threshold,score) \n",
    "plt.show()"
   ]
  },
  {
   "cell_type": "code",
   "execution_count": 36,
   "metadata": {},
   "outputs": [
    {
     "data": {
      "text/plain": [
       "(42000, 324)"
      ]
     },
     "execution_count": 36,
     "metadata": {},
     "output_type": "execute_result"
    }
   ],
   "source": [
    "X_embedded = SelectFromModel(RFC_,threshold=0.00067).fit_transform(X,y)\n",
    "X_embedded.shape"
   ]
  },
  {
   "cell_type": "code",
   "execution_count": 37,
   "metadata": {},
   "outputs": [
    {
     "data": {
      "text/plain": [
       "0.9391190476190475"
      ]
     },
     "execution_count": 37,
     "metadata": {},
     "output_type": "execute_result"
    }
   ],
   "source": [
    "cross_val_score(RFC_,X_embedded,y,cv=5).mean()"
   ]
  },
  {
   "cell_type": "code",
   "execution_count": 38,
   "metadata": {},
   "outputs": [
    {
     "data": {
      "image/png": "[encoded data removed]",
      "text/plain": [
       "<Figure size 1440x360 with 1 Axes>"
      ]
     },
     "metadata": {
      "needs_background": "light"
     },
     "output_type": "display_data"
    }
   ],
   "source": [
    "score2 = []\n",
    "#smaller the range:\n",
    "for i in np.linspace(0,0.00134,20):\n",
    "    X_embedded = SelectFromModel(RFC_,threshold=i).fit_transform(X,y)\n",
    "    once = cross_val_score(RFC_,X_embedded,y,cv=5).mean()\n",
    "    score2.append(once)\n",
    "    \n",
    "plt.figure(figsize=[20,5])\n",
    "plt.plot(np.linspace(0,0.00134,20),score2)\n",
    "plt.xticks(np.linspace(0,0.00134,20))\n",
    "plt.show()"
   ]
  },
  {
   "cell_type": "markdown",
   "metadata": {},
   "source": [
    "Check the result, sure enough, 0.00067 is not the highest point, the real highest point 0.000564 has improved the model effect to more than 94%. We use the 0.000564 to try again:"
   ]
  },
  {
   "cell_type": "code",
   "execution_count": 39,
   "metadata": {},
   "outputs": [
    {
     "data": {
      "text/plain": [
       "(42000, 340)"
      ]
     },
     "execution_count": 39,
     "metadata": {},
     "output_type": "execute_result"
    }
   ],
   "source": [
    "X_embedded = SelectFromModel(RFC_,threshold=0.000564).fit_transform(X,y)\n",
    "X_embedded.shape"
   ]
  },
  {
   "cell_type": "code",
   "execution_count": 40,
   "metadata": {},
   "outputs": [
    {
     "data": {
      "text/plain": [
       "0.9392857142857144"
      ]
     },
     "execution_count": 40,
     "metadata": {},
     "output_type": "execute_result"
    }
   ],
   "source": [
    "cross_val_score(RFC_,X_embedded,y,cv=5).mean()"
   ]
  },
  {
   "cell_type": "code",
   "execution_count": 41,
   "metadata": {},
   "outputs": [
    {
     "data": {
      "text/plain": [
       "0.9634285714285715"
      ]
     },
     "execution_count": 41,
     "metadata": {},
     "output_type": "execute_result"
    }
   ],
   "source": [
    "#We may have found the best result under the existing model. \n",
    "# What if we adjust the parameters of the random forest?\n",
    "cross_val_score(RFC(n_estimators=100,random_state=0),X_embedded,y,cv=5).mean()"
   ]
  },
  {
   "cell_type": "markdown",
   "metadata": {},
   "source": [
    "## 6. Wrapped: (if SVM)\n",
    "\n",
    "Wrapping is also a feature selection and algorithm training method at the same time, is very similar to embedding method, it also depends on the algorithm's own selection, such as coef_ attribute or feature_importances_ attribute to complete the feature selection. But the difference is that we tend to use a target function as a **black box** to help us select features, rather than enter the threshold of an evaluation indicator or statistic ourselves."
   ]
  },
  {
   "cell_type": "code",
   "execution_count": 42,
   "metadata": {},
   "outputs": [
    {
     "data": {
      "text/plain": [
       "340"
      ]
     },
     "execution_count": 42,
     "metadata": {},
     "output_type": "execute_result"
    }
   ],
   "source": [
    "from sklearn.feature_selection import RFE\n",
    "\n",
    "RFC_ = RFC(n_estimators =10,random_state=0)\n",
    "selector = RFE(RFC_, n_features_to_select=340, step=50).fit(X, y)\n",
    "\n",
    "selector.support_.sum()"
   ]
  },
  {
   "cell_type": "code",
   "execution_count": 43,
   "metadata": {
    "scrolled": true
   },
   "outputs": [
    {
     "data": {
      "text/plain": [
       "array([10,  9,  8,  7,  6,  6,  6,  6,  6,  6,  6,  6,  6,  6,  6,  6,  6,\n",
       "        6,  6,  6,  6,  6,  6,  6,  6,  6,  6,  6,  6,  6,  7,  7,  6,  6,\n",
       "        5,  6,  5,  6,  6,  6,  6,  6,  6,  6,  6,  6,  6,  7,  6,  7,  7,\n",
       "        7,  7,  7,  7,  7,  7,  7,  7,  7,  7,  7,  7,  7,  6,  6,  5,  4,\n",
       "        4,  5,  3,  4,  4,  4,  5,  4,  5,  7,  6,  7,  7,  7,  8,  8,  8,\n",
       "        8,  8,  8,  8,  8,  6,  7,  4,  3,  1,  2,  3,  3,  1,  1,  1,  1,\n",
       "        1,  3,  3,  4,  5,  5,  5,  8,  8,  9,  9,  9,  9,  8,  9,  9,  4,\n",
       "        4,  3,  2,  1,  1,  1,  1,  1,  1,  1,  1,  1,  1,  2,  3,  3,  4,\n",
       "        5,  5,  9,  9, 10, 10, 10, 10,  7,  4,  4,  3,  1,  1,  1,  1,  1,\n",
       "        1,  1,  1,  1,  1,  1,  1,  1,  1,  2,  3,  3,  5,  8, 10, 10, 10,\n",
       "       10,  9,  4,  4,  3,  1,  1,  1,  1,  1,  1,  1,  1,  1,  1,  1,  1,\n",
       "        1,  1,  1,  1,  1,  3,  4, 10, 10, 10, 10,  9,  7,  4,  3,  2,  2,\n",
       "        1,  1,  1,  1,  1,  1,  1,  1,  1,  1,  1,  1,  1,  1,  1,  1,  2,\n",
       "        4,  4, 10,  9, 10,  6,  6,  4,  2,  3,  1,  1,  1,  1,  1,  1,  1,\n",
       "        1,  1,  1,  1,  1,  1,  1,  1,  1,  1,  1,  3,  5,  9, 10,  8,  7,\n",
       "        4,  5,  3,  2,  1,  1,  1,  1,  1,  1,  1,  1,  1,  1,  1,  1,  1,\n",
       "        1,  1,  2,  1,  2,  4, 10, 10, 10,  9,  7,  5,  3,  3,  1,  1,  1,\n",
       "        1,  1,  1,  1,  1,  1,  1,  1,  1,  1,  1,  1,  1,  1,  3,  3,  5,\n",
       "        5,  9,  9,  9,  7,  5,  5,  3,  2,  1,  1,  1,  1,  1,  1,  1,  1,\n",
       "        1,  1,  1,  1,  1,  1,  1,  1,  2,  4,  5,  9,  9,  9,  9,  9,  5,\n",
       "        4,  1,  1,  1,  1,  1,  1,  1,  1,  1,  1,  1,  1,  1,  1,  1,  1,\n",
       "        1,  1,  1,  4,  5,  7, 10, 10,  9, 10,  9,  4,  1,  2,  1,  1,  1,\n",
       "        1,  1,  1,  1,  1,  1,  1,  1,  1,  1,  1,  1,  1,  1,  3,  5, 10,\n",
       "        9, 10, 10,  9,  7,  4,  2,  1,  1,  1,  1,  1,  1,  1,  1,  1,  1,\n",
       "        1,  1,  1,  1,  1,  1,  1,  2,  2,  4,  8,  9, 10, 10, 10,  5,  4,\n",
       "        2,  1,  1,  1,  1,  1,  1,  1,  1,  1,  1,  1,  1,  1,  1,  1,  1,\n",
       "        1,  2,  3,  5, 10, 10, 10, 10,  9,  5,  4,  1,  1,  1,  1,  1,  1,\n",
       "        1,  1,  1,  1,  1,  1,  1,  1,  1,  1,  1,  1,  3,  3,  4,  5,  9,\n",
       "       10, 10, 10,  5,  3,  1,  1,  1,  1,  1,  1,  1,  1,  1,  1,  1,  1,\n",
       "        1,  1,  1,  1,  1,  1,  3,  3,  4,  8,  8, 10, 10,  9,  5,  3,  3,\n",
       "        1,  1,  1,  1,  1,  1,  1,  1,  1,  1,  1,  1,  1,  1,  1,  1,  2,\n",
       "        3,  3,  4, 10, 10, 10, 10,  8,  4,  3,  1,  1,  1,  1,  1,  1,  1,\n",
       "        1,  1,  1,  1,  1,  1,  1,  1,  1,  1,  1,  2,  4,  5,  8, 10, 10,\n",
       "       10, 10,  5,  2,  1,  1,  1,  1,  1,  1,  1,  1,  1,  1,  1,  1,  1,\n",
       "        1,  1,  1,  1,  1,  2,  4,  7, 10, 10, 10, 10,  8,  5,  3,  2,  1,\n",
       "        1,  1,  1,  1,  1,  1,  1,  1,  1,  1,  1,  1,  1,  1,  2,  3,  3,\n",
       "        5,  5,  7,  9,  9,  9,  9,  5,  5,  2,  2,  1,  1,  1,  1,  1,  1,\n",
       "        1,  1,  1,  1,  1,  1,  2,  2,  2,  3,  4,  5,  5,  8,  9,  9,  9,\n",
       "        9,  7,  4,  4,  2,  1,  1,  1,  1,  1,  1,  1,  1,  1,  1,  1,  1,\n",
       "        3,  3,  3,  5,  5,  9,  8,  9,  9,  9,  9,  9,  5,  4,  4,  2,  2,\n",
       "        1,  1,  1,  1,  1,  2,  1,  1,  1,  1,  2,  2,  3,  4,  5,  5,  9,\n",
       "        8,  8,  8,  8,  8,  8,  7,  8,  6,  4,  2,  2,  1,  1,  2,  2,  1,\n",
       "        2,  2,  3,  2,  2,  4,  4,  5,  5,  8,  8,  8,  7,  7,  7,  7,  7,\n",
       "        7,  7,  5,  5,  4,  5,  4,  3,  3,  3,  4,  3,  3,  4,  3,  4,  5,\n",
       "        5,  6,  7,  7,  7,  6,  7,  8,  8,  8,  9,  9,  9,  9,  6,  8,  8,\n",
       "        8,  7,  8,  8,  8,  7,  8,  8,  8,  8,  8,  7,  8,  8,  8,  8,  9,\n",
       "       10,  7])"
      ]
     },
     "execution_count": 43,
     "metadata": {},
     "output_type": "execute_result"
    }
   ],
   "source": [
    "selector.ranking_ #order the importance from low 1-10"
   ]
  },
  {
   "cell_type": "code",
   "execution_count": 44,
   "metadata": {},
   "outputs": [
    {
     "data": {
      "text/plain": [
       "0.9379761904761905"
      ]
     },
     "execution_count": 44,
     "metadata": {},
     "output_type": "execute_result"
    }
   ],
   "source": [
    "X_wrapper = selector.transform(X)\n",
    "cross_val_score(RFC_,X_wrapper,y,cv=5).mean()"
   ]
  },
  {
   "cell_type": "code",
   "execution_count": 45,
   "metadata": {},
   "outputs": [
    {
     "data": {
      "image/png": "[encoded data removed]",
      "text/plain": [
       "<Figure size 1440x360 with 1 Axes>"
      ]
     },
     "metadata": {
      "needs_background": "light"
     },
     "output_type": "display_data"
    }
   ],
   "source": [
    "#learning curve: cost is less than embedded, but higher than filtering\n",
    "score = []\n",
    "for i in range(1,751,50):\n",
    "    X_wrapper = RFE(RFC_,n_features_to_select=i, step=50).fit_transform(X,y) \n",
    "    once = cross_val_score(RFC_,X_wrapper,y,cv=5).mean()\n",
    "    score.append(once)\n",
    "\n",
    "plt.figure(figsize=[20,5]) \n",
    "plt.plot(range(1,751,50),score) \n",
    "plt.xticks(range(1,751,50)) \n",
    "plt.show()"
   ]
  },
  {
   "cell_type": "code",
   "execution_count": 56,
   "metadata": {},
   "outputs": [
    {
     "data": {
      "text/plain": [
       "0.9404047619047621"
      ]
     },
     "execution_count": 56,
     "metadata": {},
     "output_type": "execute_result"
    }
   ],
   "source": [
    "max(score)"
   ]
  },
  {
   "cell_type": "code",
   "execution_count": null,
   "metadata": {},
   "outputs": [],
   "source": []
  }
 ],
 "metadata": {
  "kernelspec": {
   "display_name": "Python 3",
   "language": "python",
   "name": "python3"
  },
  "language_info": {
   "codemirror_mode": {
    "name": "ipython",
    "version": 3
   },
   "file_extension": ".py",
   "mimetype": "text/x-python",
   "name": "python",
   "nbconvert_exporter": "python",
   "pygments_lexer": "ipython3",
   "version": "3.7.6"
  }
 },
 "nbformat": 4,
 "nbformat_minor": 4
}
